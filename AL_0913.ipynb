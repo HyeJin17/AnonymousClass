{
  "nbformat": 4,
  "nbformat_minor": 0,
  "metadata": {
    "colab": {
      "provenance": [],
      "collapsed_sections": [],
      "authorship_tag": "ABX9TyOC1PmH0jUmS0PtttvxazdL",
      "include_colab_link": true
    },
    "kernelspec": {
      "name": "python3",
      "display_name": "Python 3"
    },
    "language_info": {
      "name": "python"
    }
  },
  "cells": [
    {
      "cell_type": "markdown",
      "metadata": {
        "id": "view-in-github",
        "colab_type": "text"
      },
      "source": [
        "<a href=\"https://colab.research.google.com/github/HyeJin17/AnonymousClass/blob/master/AL_0913.ipynb\" target=\"_parent\"><img src=\"https://colab.research.google.com/assets/colab-badge.svg\" alt=\"Open In Colab\"/></a>"
      ]
    },
    {
      "cell_type": "code",
      "execution_count": 12,
      "metadata": {
        "colab": {
          "base_uri": "https://localhost:8080/"
        },
        "id": "M_B73oZkRNLm",
        "outputId": "fe2501af-03d2-4fe1-9d7a-747815a935a4"
      },
      "outputs": [
        {
          "output_type": "stream",
          "name": "stdout",
          "text": [
            "1 6\n"
          ]
        }
      ],
      "source": [
        "def sequential_search(A, key):\n",
        "  for i in range(len(A)) :\n",
        "    if A[i] == key :\n",
        "      return 1, i\n",
        "  return -1, -1\n",
        "\n",
        "list=[1,2,3,4,5,6,7,8,9]\n",
        "tf, index = sequential_search(list,7)\n",
        "print(tf,index)"
      ]
    },
    {
      "cell_type": "code",
      "source": [
        "for j in range(10):\n",
        "  print(j)"
      ],
      "metadata": {
        "colab": {
          "base_uri": "https://localhost:8080/"
        },
        "id": "kuJgZmQgT7Xx",
        "outputId": "544777b2-035c-4362-c362-64dcaa7302ad"
      },
      "execution_count": 5,
      "outputs": [
        {
          "output_type": "stream",
          "name": "stdout",
          "text": [
            "0\n",
            "1\n",
            "2\n",
            "3\n",
            "4\n",
            "5\n",
            "6\n",
            "7\n",
            "8\n",
            "9\n"
          ]
        }
      ]
    },
    {
      "cell_type": "code",
      "source": [
        "import random\n",
        "r = random.randint(1,100) # 1~100 랜덤 수 하나 뽑기\n",
        "print(r)\n",
        "r = random.sample(range(1,20),15) # 1~19 랜덤 수 15개 뽑기 \n",
        "print(r)\n",
        "\n",
        "list = [1,2,3,4,5,6,7]\n",
        "random.shuffle(list)\n",
        "print(list)"
      ],
      "metadata": {
        "colab": {
          "base_uri": "https://localhost:8080/"
        },
        "id": "M_izHPpJdcrk",
        "outputId": "9483b2a9-e6b7-4e44-d448-e8b839528872"
      },
      "execution_count": 67,
      "outputs": [
        {
          "output_type": "stream",
          "name": "stdout",
          "text": [
            "97\n",
            "[7, 19, 6, 5, 16, 9, 12, 2, 17, 1, 10, 14, 11, 8, 18]\n",
            "[2, 5, 4, 7, 6, 3, 1]\n"
          ]
        }
      ]
    },
    {
      "cell_type": "code",
      "source": [
        "import random\n",
        "def unique_element(A):\n",
        "  n = len(A)\n",
        "  count = 0\n",
        "  for i in range(n-1):\n",
        "    for j in range(i+1,n-2):\n",
        "      count += 1\n",
        "      if A[i] == A[j]:\n",
        "        return False\n",
        "\n",
        "  print(\"count\", count)\n",
        "  return True\n",
        "\n",
        "list = random.sample(range(1,20),15)\n",
        "print(unique_element(list))"
      ],
      "metadata": {
        "colab": {
          "base_uri": "https://localhost:8080/"
        },
        "id": "TAZI-R1XhIGA",
        "outputId": "b8aaf7d5-f733-45db-f30d-cdb860fa9941"
      },
      "execution_count": 60,
      "outputs": [
        {
          "output_type": "stream",
          "name": "stdout",
          "text": [
            "count 78\n",
            "True\n"
          ]
        }
      ]
    },
    {
      "cell_type": "code",
      "source": [
        "def binary_digits(n):\n",
        "  count = 1\n",
        "  while n > 1:\n",
        "    count = count + 1\n",
        "    n = n // 2 # 나머지를 버리는 정수 연산\n",
        "  return count"
      ],
      "metadata": {
        "id": "602QFmJulOUO"
      },
      "execution_count": 71,
      "outputs": []
    },
    {
      "cell_type": "code",
      "source": [
        "# 하노이의 탑 문제\n",
        "\n",
        "def hanoi_tower(n,fr,tmp,to): # fr에서부터 to로 옮기기, tmp는 임시 저장\n",
        "  if(n==1):\n",
        "    print(\"원판1:%s-->%s\"%(fr,to))\n",
        "  else:\n",
        "    hanoi_tower(n-1,fr,to,tmp)\n",
        "    print(\"원판 %d:%s-->%s\" %(n,fr,to))\n",
        "    hanoi_tower(n-1,tmp,fr,to) # n-1을 tmp를 이용해서 fr에서 to로 이동\n",
        "\n",
        "hanoi_tower(3, 'A', 'B', 'C')"
      ],
      "metadata": {
        "colab": {
          "base_uri": "https://localhost:8080/"
        },
        "id": "taD_fuM1pE-A",
        "outputId": "5c758ecc-2796-4e40-8bcf-24fb94aa4716"
      },
      "execution_count": 78,
      "outputs": [
        {
          "output_type": "stream",
          "name": "stdout",
          "text": [
            "원판1:A-->C\n",
            "원판 2:A-->B\n",
            "원판1:C-->B\n",
            "원판 3:A-->C\n",
            "원판1:B-->A\n",
            "원판 2:B-->C\n",
            "원판1:A-->C\n"
          ]
        }
      ]
    }
  ]
}